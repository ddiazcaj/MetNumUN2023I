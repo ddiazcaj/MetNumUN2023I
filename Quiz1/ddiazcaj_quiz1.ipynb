{
  "nbformat": 4,
  "nbformat_minor": 0,
  "metadata": {
    "colab": {
      "provenance": []
    },
    "kernelspec": {
      "name": "python3",
      "display_name": "Python 3"
    },
    "language_info": {
      "name": "python"
    }
  },
  "cells": [
    {
      "cell_type": "code",
      "execution_count": 1,
      "metadata": {
        "id": "UBe4e1m-1FDT",
        "colab": {
          "base_uri": "https://localhost:8080/"
        },
        "outputId": "3d8d26da-166f-4add-84cf-68456ed87245"
      },
      "outputs": [
        {
          "output_type": "stream",
          "name": "stdout",
          "text": [
            "Python 3.8.10\n",
            "NumPy 1.22.4\n"
          ]
        }
      ],
      "source": [
        "!python --version\n",
        "import numpy as np\n",
        "\n",
        "print('NumPy', np.__version__)"
      ]
    },
    {
      "cell_type": "code",
      "source": [
        "#Do not change this function's name, parameters or output format. It will be used in automatic grading.\n",
        "def FizzBuzz(x):\n",
        "  if x%5==0 and x%3==0:\n",
        "    answer =\"FizzBuzz!\"\n",
        "  elif x%5 == 0:\n",
        "    answer=\"Buzz!\"\n",
        "  elif x%3 == 0:\n",
        "    answer=\"Fizz!\"\n",
        "  else:\n",
        "    answer=\"...\"\n",
        "  return answer\n",
        "\n"
      ],
      "metadata": {
        "id": "74987zfZ16LP"
      },
      "execution_count": 2,
      "outputs": []
    },
    {
      "cell_type": "code",
      "source": [
        "print(FizzBuzz(3))\n",
        "print(FizzBuzz(7))\n",
        "print(FizzBuzz(5))\n",
        "print(FizzBuzz(11))\n",
        "print(FizzBuzz(15))"
      ],
      "metadata": {
        "colab": {
          "base_uri": "https://localhost:8080/"
        },
        "id": "_3L2oV6119Qa",
        "outputId": "b1ff683a-3d52-4817-c520-f8fe7c7a54ae"
      },
      "execution_count": 3,
      "outputs": [
        {
          "output_type": "stream",
          "name": "stdout",
          "text": [
            "Fizz!\n",
            "...\n",
            "Buzz!\n",
            "...\n",
            "FizzBuzz!\n"
          ]
        }
      ]
    },
    {
      "cell_type": "code",
      "source": [
        "#Do not change this function's name, parameters or output format. It will be used in automatic grading.\n",
        "def FizzBuzzList(n):\n",
        "  ans =[]\n",
        "  for i in range (1,n+1):\n",
        "    ans.append(FizzBuzz(i))\n",
        "\n",
        "  return ans"
      ],
      "metadata": {
        "id": "tY_tvFwL1-Oo"
      },
      "execution_count": 4,
      "outputs": []
    },
    {
      "cell_type": "code",
      "source": [
        "print(FizzBuzzList(5))\n",
        "print(FizzBuzzList(-30))"
      ],
      "metadata": {
        "colab": {
          "base_uri": "https://localhost:8080/"
        },
        "id": "1WmuNxKJ2Iij",
        "outputId": "c3fe16fd-cc15-410f-ea0a-01c7098e778b"
      },
      "execution_count": 5,
      "outputs": [
        {
          "output_type": "stream",
          "name": "stdout",
          "text": [
            "['...', '...', 'Fizz!', '...', 'Buzz!']\n",
            "[]\n"
          ]
        }
      ]
    },
    {
      "cell_type": "code",
      "source": [
        "import numpy as np\n",
        "\n",
        "X = np.array([1.2,3.2,4.3,5.6])\n",
        "print(X.mean())\n",
        "print(X.std())"
      ],
      "metadata": {
        "colab": {
          "base_uri": "https://localhost:8080/"
        },
        "id": "sTVPIxvu2JYR",
        "outputId": "2ba5bd5a-fd17-48e1-ce7c-466c4864ec24"
      },
      "execution_count": 6,
      "outputs": [
        {
          "output_type": "stream",
          "name": "stdout",
          "text": [
            "3.5749999999999997\n",
            "1.6130328576938535\n"
          ]
        }
      ]
    },
    {
      "cell_type": "code",
      "source": [
        "\n",
        "import numpy as np\n",
        "\n",
        "def standarize(X):\n",
        "  X_standarized = (( X - X.mean() )/ X.std())\n",
        "  return X_standarized"
      ],
      "metadata": {
        "id": "mGeJDHLl2OM_"
      },
      "execution_count": 7,
      "outputs": []
    },
    {
      "cell_type": "code",
      "source": [
        "##test\n",
        "X0 = np.array([4.8, 4.0, 4.2, 4.0, 5.0])\n",
        "standarize(X0)"
      ],
      "metadata": {
        "colab": {
          "base_uri": "https://localhost:8080/"
        },
        "id": "Zj1zihEg2U5p",
        "outputId": "77bea9c0-daac-46ec-8854-be859d635848"
      },
      "execution_count": 8,
      "outputs": [
        {
          "output_type": "execute_result",
          "data": {
            "text/plain": [
              "array([ 0.95346259, -0.95346259, -0.47673129, -0.95346259,  1.43019388])"
            ]
          },
          "metadata": {},
          "execution_count": 8
        }
      ]
    },
    {
      "cell_type": "code",
      "source": [
        "X1 = np.arange(5)\n",
        "standarize(X1)"
      ],
      "metadata": {
        "colab": {
          "base_uri": "https://localhost:8080/"
        },
        "id": "4j1Hglnh2Xxp",
        "outputId": "7a1f9a79-7ebc-4085-a514-8b1128ad418a"
      },
      "execution_count": 9,
      "outputs": [
        {
          "output_type": "execute_result",
          "data": {
            "text/plain": [
              "array([-1.41421356, -0.70710678,  0.        ,  0.70710678,  1.41421356])"
            ]
          },
          "metadata": {},
          "execution_count": 9
        }
      ]
    },
    {
      "cell_type": "code",
      "source": [
        "import numpy as np\n",
        "A = np.array([\n",
        "    [1, 0, 2, 9, 2],\n",
        "    [9, 2, 6, 5, 7],\n",
        "    [6, 4, 3, 4, 7]\n",
        "    \n",
        "])\n",
        "\n",
        "print(A.astype(float))\n",
        "\n",
        "print(np.diag(A))\n",
        "\n",
        "print(np.diag(np.diag(A)))"
      ],
      "metadata": {
        "colab": {
          "base_uri": "https://localhost:8080/"
        },
        "id": "Z3vB3Lat2b5s",
        "outputId": "8c59cb25-dc99-456a-800a-392914a2b656"
      },
      "execution_count": 10,
      "outputs": [
        {
          "output_type": "stream",
          "name": "stdout",
          "text": [
            "[[1. 0. 2. 9. 2.]\n",
            " [9. 2. 6. 5. 7.]\n",
            " [6. 4. 3. 4. 7.]]\n",
            "[1 2 3]\n",
            "[[1 0 0]\n",
            " [0 2 0]\n",
            " [0 0 3]]\n"
          ]
        }
      ]
    },
    {
      "cell_type": "code",
      "source": [
        "import numpy as np\n",
        "\n",
        "def main_diagonal_matrix(A):\n",
        "  D = np.diag(np.diag(A.astype(float)))\n",
        "  return D\n"
      ],
      "metadata": {
        "id": "dGYhrCej2gvq"
      },
      "execution_count": 11,
      "outputs": []
    },
    {
      "cell_type": "code",
      "source": [
        "##test\n",
        "A = np.array([\n",
        "    [1, 0, 2, 9, 2],\n",
        "    [9, 2, 6, 5, 7],\n",
        "    [6, 4, 3, 4, 7]\n",
        "\n",
        "])\n",
        "main_diagonal_matrix(A)"
      ],
      "metadata": {
        "colab": {
          "base_uri": "https://localhost:8080/"
        },
        "id": "62Vmb4E72iOo",
        "outputId": "2fd8d05a-015f-4a39-dbd4-1f7fb5c23b2b"
      },
      "execution_count": 12,
      "outputs": [
        {
          "output_type": "execute_result",
          "data": {
            "text/plain": [
              "array([[1., 0., 0.],\n",
              "       [0., 2., 0.],\n",
              "       [0., 0., 3.]])"
            ]
          },
          "metadata": {},
          "execution_count": 12
        }
      ]
    },
    {
      "cell_type": "code",
      "source": [
        "A = np.array([\n",
        "    [4, 0, 2],\n",
        "    [9, 5, 6],\n",
        "    [1, 9, 6],\n",
        "    [3, 0, 5]\n",
        "\n",
        "])\n",
        "main_diagonal_matrix(A)"
      ],
      "metadata": {
        "colab": {
          "base_uri": "https://localhost:8080/"
        },
        "id": "ffdrSbhb2k0p",
        "outputId": "5a9c30ea-72db-4703-b503-db7817f7c745"
      },
      "execution_count": 13,
      "outputs": [
        {
          "output_type": "execute_result",
          "data": {
            "text/plain": [
              "array([[4., 0., 0.],\n",
              "       [0., 5., 0.],\n",
              "       [0., 0., 6.]])"
            ]
          },
          "metadata": {},
          "execution_count": 13
        }
      ]
    },
    {
      "cell_type": "code",
      "source": [],
      "metadata": {
        "id": "SlhVEoJ42RaR"
      },
      "execution_count": 13,
      "outputs": []
    }
  ]
}