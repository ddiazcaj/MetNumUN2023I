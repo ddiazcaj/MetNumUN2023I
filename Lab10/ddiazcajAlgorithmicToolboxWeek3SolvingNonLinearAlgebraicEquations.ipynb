{
  "nbformat": 4,
  "nbformat_minor": 0,
  "metadata": {
    "kernelspec": {
      "display_name": "Python 3",
      "language": "python",
      "name": "python3"
    },
    "language_info": {
      "codemirror_mode": {
        "name": "ipython",
        "version": 3
      },
      "file_extension": ".py",
      "mimetype": "text/x-python",
      "name": "python",
      "nbconvert_exporter": "python",
      "pygments_lexer": "ipython3",
      "version": "3.5.2"
    },
    "colab": {
      "provenance": []
    }
  },
  "cells": [
    {
      "cell_type": "markdown",
      "metadata": {
        "id": "h2TxjE6ST95B"
      },
      "source": [
        "# Part I. Root-finding. Newton's iteration."
      ]
    },
    {
      "cell_type": "markdown",
      "metadata": {
        "id": "_qFXBbLXT95F"
      },
      "source": [
        "Write a function which performs Newton's iteration for a given function $f(x)$ with known derivative $f'(x)$. Your function should find the root of $f(x)$ with a predefined absolute accuracy $\\epsilon$. "
      ]
    },
    {
      "cell_type": "code",
      "source": [
        "import numpy as np \n",
        "import cmath \n",
        "from numpy.testing import assert_allclose\n",
        "\n",
        "import matplotlib.pyplot as plt \n",
        "%matplotlib inline "
      ],
      "metadata": {
        "id": "ZO-a26aDnTpf"
      },
      "execution_count": 1,
      "outputs": []
    },
    {
      "cell_type": "code",
      "metadata": {
        "collapsed": true,
        "id": "chRy1mRpT95F"
      },
      "source": [
        "#\"\"\"Find a root of $f(x) = 0$ via Newton's iteration starting from x0.   \n",
        " #   Parameters\n",
        "  #  f : callable\n",
        "   #     The function to find a root of.\n",
        "    #fder : callable\n",
        "     #   The derivative of `f`.\n",
        "    #x0 : float\n",
        "    #    Initial value for the Newton's iteration.\n",
        "    #eps : float\n",
        "    #    The target accuracy. \n",
        "    #    The iteration stops when the distance between successive iterates is below `eps`.\n",
        "    #    Default is 1e-5.\n",
        "    #maxiter : int\n",
        "    #    The maximum number of iterations (default is 1000.)\n",
        "    #    Iterations terminate if the number of iterations exceeds `maxiter`.\n",
        "    #    This parameter is only needed to avoid infinite loops if iterations wander off.\n",
        "        \n",
        "    #Returns\n",
        "    #-------\n",
        "    #x : float\n",
        "    #    The estimate for the root.\n",
        "    #niter : int\n",
        "    #    The number of iterations.\n",
        "def newton_iteration(f, fder, x0, eps=1e-5, maxiter=1000):\n",
        "\n",
        "    var_x = x0 - f(x0) / fder(x0) #first item\n",
        "    iteration_count = 0\n",
        "    \n",
        "    while (abs(var_x - x0) > eps): #condition to run through till maximum number of iterations\n",
        "        x0 = var_x\n",
        "        var_x = x0 - f(x0) / fder(x0)\n",
        "        iteration_count += 1 \n",
        "        \n",
        "        if iteration_count > maxiter:\n",
        "            break\n",
        "    \n",
        "    return var_x, iteration_count"
      ],
      "execution_count": 2,
      "outputs": []
    },
    {
      "cell_type": "markdown",
      "metadata": {
        "id": "qGsOVPqwT95G"
      },
      "source": [
        "### Test I.1 \n",
        "\n",
        "Test your implementation on a simple example, $f(x) = x^2 - 1$ or similar. (20% of the total grade)"
      ]
    },
    {
      "cell_type": "code",
      "metadata": {
        "collapsed": true,
        "id": "ggan1StnT95H",
        "colab": {
          "base_uri": "https://localhost:8080/"
        },
        "outputId": "83233eda-ee4e-47fc-c67b-c358bddc0e4a"
      },
      "source": [
        "f = lambda x: x**2 - 1\n",
        "fder = lambda x: 2 * x\n",
        "root, iteration_count = newton_iteration(f, fder, 0.05)\n",
        "\n",
        "print('Raíz:', root)\n",
        "print('Número iteraciones', iteration_count)"
      ],
      "execution_count": 3,
      "outputs": [
        {
          "output_type": "stream",
          "name": "stdout",
          "text": [
            "Raíz: 1.0000000000149214\n",
            "Número iteraciones 7\n"
          ]
        }
      ]
    },
    {
      "cell_type": "markdown",
      "metadata": {
        "id": "wzkKQBL7T95H"
      },
      "source": [
        "### Test I.2\n",
        "\n",
        "Now consider a function which has a multiple root. Take $f(x) = (x^2 - 1)^2$ as an example. Implement a modified Newton's iteraion,\n",
        "\n",
        "$$\n",
        "x_{n+1} = x_{n} - m \\frac{f(x_n)}{f'(x_n)}\n",
        "$$\n",
        "\n",
        "and vary $m= 1, 2, 3, 4, 5$. Check the number of iterations required for convergence within a fixed $\\epsilon$. Are your observations consistent with the expectation that the convergence is quadratic is $m$ equals the multiplicity of the root, and is linear otherwise? (40% of the total grade)"
      ]
    },
    {
      "cell_type": "code",
      "metadata": {
        "collapsed": true,
        "id": "OIx5yP-9T95I"
      },
      "source": [
        "f = lambda x: (x**2 - 1)**2\n",
        "fder = lambda x: 4 * x * (x**2 - 1)\n"
      ],
      "execution_count": 4,
      "outputs": []
    },
    {
      "cell_type": "code",
      "source": [
        "def modified_newton_iteration(f, fder, x0, m, eps=1e-5, maxiter=1000):\n",
        "    \n",
        "    var_x = x0 - m * f(x0) / fder(x0)\n",
        "    iteration_count = 0\n",
        "    \n",
        "    while (abs(var_x - x0) > eps): \n",
        "        x0 = var_x\n",
        "        var_x = x0 - m * f(x0) / fder(x0)\n",
        "        iteration_count += 1 \n",
        "        \n",
        "        if iteration_count > maxiter: \n",
        "            var_x = 'Nan'\n",
        "            break\n",
        "    \n",
        "    return var_x, iteration_count"
      ],
      "metadata": {
        "id": "cvl0zkPQoeAC"
      },
      "execution_count": 5,
      "outputs": []
    },
    {
      "cell_type": "code",
      "source": [
        "for k in range(1, 6): \n",
        "    root, iteration_count = modified_newton_iteration(f, fder, 3.1415, k)\n",
        "    print('m:', k, '\\traíz:', root, '\\titeración:', iteration_count)"
      ],
      "metadata": {
        "colab": {
          "base_uri": "https://localhost:8080/"
        },
        "id": "8kLIsCXZoh7b",
        "outputId": "272359f8-1653-4ac5-f184-239d837c7225"
      },
      "execution_count": 6,
      "outputs": [
        {
          "output_type": "stream",
          "name": "stdout",
          "text": [
            "m: 1 \traíz: 1.0000069974813859 \titeración: 19\n",
            "m: 2 \traíz: 1.0 \titeración: 5\n",
            "m: 3 \traíz: 0.9999971272941264 \titeración: 13\n",
            "m: 4 \traíz: Nan \titeración: 1001\n",
            "m: 5 \traíz: Nan \titeración: 1001\n"
          ]
        }
      ]
    },
    {
      "cell_type": "markdown",
      "metadata": {
        "id": "T9om2b1lT95I"
      },
      "source": [
        "# Part II. Fixed-point iteration"
      ]
    },
    {
      "cell_type": "markdown",
      "metadata": {
        "id": "urnNPsOKT95J"
      },
      "source": [
        "Consider the following equation:\n",
        "\n",
        "$$\n",
        "\\sqrt{x} = \\cos{x}\n",
        "$$\n",
        "\n",
        "Plot the left-hand side and right-hand side of this equation, and localize the root graphically. Estimate the location of the root by visual inspection of the plot.\n",
        "\n",
        "Write a function which finds the solution using fixed-point iteration up to a predefined accuracy $\\epsilon$. Compare the result to an estimate from a visual inspection.\n",
        "\n",
        "Next, rewrite the fixed-point problem in the form\n",
        "\n",
        "$$\n",
        "x = x - \\alpha f(x)\n",
        "$$\n",
        "\n",
        "where $\\alpha$ is the free parameter. Check the dependence of the number of iterations required for a given $\\epsilon$ on $\\alpha$. Compare your results to an expectation that the optimal value of $\\alpha$ is given by \n",
        "\n",
        "$$\n",
        "\\alpha = \\frac{2}{m + M}\n",
        "$$\n",
        "\n",
        "where $0 < m < |f'(x)| < M$ over the localization interval. (40% of the total grade)"
      ]
    },
    {
      "cell_type": "code",
      "metadata": {
        "collapsed": true,
        "id": "SOlb04UzT95K",
        "colab": {
          "base_uri": "https://localhost:8080/",
          "height": 447
        },
        "outputId": "ccc8e253-3898-4755-b923-d06f500c2ba0"
      },
      "source": [
        "x = np.linspace(0.1, 7, 100)\n",
        "\n",
        "plt.plot(x, np.sqrt(x), label='sqrt')\n",
        "plt.plot(x, np.cos(x), label='cos')\n",
        "plt.legend()"
      ],
      "execution_count": 7,
      "outputs": [
        {
          "output_type": "execute_result",
          "data": {
            "text/plain": [
              "<matplotlib.legend.Legend at 0x7fe7d8423670>"
            ]
          },
          "metadata": {},
          "execution_count": 7
        },
        {
          "output_type": "display_data",
          "data": {
            "text/plain": [
              "<Figure size 640x480 with 1 Axes>"
            ],
            "image/png": "[encoded data removed]"
          },
          "metadata": {}
        }
      ]
    },
    {
      "cell_type": "code",
      "source": [
        "f = lambda x: np.sqrt(x) - np.cos(x)\n",
        "fder = lambda x: 1 / (2 * np.sqrt(x)) - np.sin(x)"
      ],
      "metadata": {
        "id": "mB_Hn6eGpB-_"
      },
      "execution_count": 8,
      "outputs": []
    },
    {
      "cell_type": "code",
      "source": [
        "x = np.linspace(0.1, 1, 50)\n",
        "plt.plot(x, fder(x), label='derivada de f')\n",
        "plt.legend()"
      ],
      "metadata": {
        "colab": {
          "base_uri": "https://localhost:8080/",
          "height": 447
        },
        "id": "8LisaXfipDn8",
        "outputId": "37e39d4d-b8e2-4461-848a-93022f0ec748"
      },
      "execution_count": 9,
      "outputs": [
        {
          "output_type": "execute_result",
          "data": {
            "text/plain": [
              "<matplotlib.legend.Legend at 0x7fe7d879a7d0>"
            ]
          },
          "metadata": {},
          "execution_count": 9
        },
        {
          "output_type": "display_data",
          "data": {
            "text/plain": [
              "<Figure size 640x480 with 1 Axes>"
            ],
            "image/png": "[encoded data removed]"
          },
          "metadata": {}
        }
      ]
    },
    {
      "cell_type": "markdown",
      "metadata": {
        "id": "WaEqb4_ST95K"
      },
      "source": [
        "# Part III. Newton's fractal.\n",
        "\n",
        "(Not graded). \n",
        "\n",
        "Consider the equation\n",
        "\n",
        "$$\n",
        "x^3 = 1\n",
        "$$\n",
        "\n",
        "It has three solutions in the complex plane, $x_k = \\exp(i\\, 2\\pi k/ 3)$, $k = 0, 1, 2$.\n",
        "\n",
        "The Newton's iterations converge to one of these solutions, depending on the starting point in the complex plane (to converge to a complex-valued solution, the iteration needs a complex-valued starting point).\n",
        "\n",
        "Plot the \\emph{basins of attraction} of these roots on the complex plane of $x$ (i.e., on the plane $\\mathrm{Re}x$ -- $\\mathrm{Im}x$). To this end, make a series of calculations, varying the initial conditions on a grid of points. \n",
        "Color the grid in three colors, according to the root, to which iterations converged."
      ]
    },
    {
      "cell_type": "code",
      "metadata": {
        "collapsed": true,
        "id": "WkOcvzD5T95K"
      },
      "source": [],
      "execution_count": 9,
      "outputs": []
    }
  ]
}